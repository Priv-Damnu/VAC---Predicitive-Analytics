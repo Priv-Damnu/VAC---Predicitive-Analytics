{
 "cells": [
  {
   "cell_type": "markdown",
   "metadata": {
    "colab_type": "text",
    "id": "37puETfgRzzg"
   },
   "source": [
    "# House Price Prediction by Using Regression models"
   ]
  },
  {
   "cell_type": "code",
   "execution_count": 1,
   "metadata": {
    "colab": {},
    "colab_type": "code",
    "id": "N-qiINBQSK2g"
   },
   "outputs": [],
   "source": [
    "#Loading libraries\n",
    "import numpy as np\n",
    "import matplotlib.pyplot as plt\n",
    "import pandas as pd\n",
    "from datetime import date\n",
    "from sklearn.preprocessing import LabelEncoder, OrdinalEncoder\n",
    "from sklearn.preprocessing import MinMaxScaler\n",
    "from sklearn.linear_model import LinearRegression\n",
    "from sklearn.tree import DecisionTreeRegressor\n",
    "from sklearn.ensemble import RandomForestRegressor\n",
    "from sklearn.model_selection import train_test_split\n",
    "from sklearn.preprocessing import PolynomialFeatures"
   ]
  },
  {
   "cell_type": "code",
   "execution_count": 2,
   "metadata": {
    "colab": {},
    "colab_type": "code",
    "id": "WwEPNDWySTKm"
   },
   "outputs": [],
   "source": [
    "train_dataset = pd.read_csv('train_h.csv')\n",
    "test_dataset = pd.read_csv('test_h.csv')\n",
    "test_id = test_dataset['Id']\n",
    "dataset = pd.concat([train_dataset,test_dataset])\n",
    "dataset.drop('Id', axis=1, inplace=True)"
   ]
  },
  {
   "cell_type": "code",
   "execution_count": 3,
   "metadata": {},
   "outputs": [],
   "source": [
    "dataset.drop([columns for columns, count in dict(dataset.isna().sum()).items() if float(count/dataset.shape[0]) >= 0.5], axis = 1, inplace=True)"
   ]
  },
  {
   "cell_type": "code",
   "execution_count": 4,
   "metadata": {},
   "outputs": [
    {
     "data": {
      "text/plain": [
       "AllPub    2916\n",
       "NoSeWa       1\n",
       "Name: Utilities, dtype: int64"
      ]
     },
     "execution_count": 4,
     "metadata": {},
     "output_type": "execute_result"
    }
   ],
   "source": [
    "dataset['Utilities'].value_counts() "
   ]
  },
  {
   "cell_type": "code",
   "execution_count": 5,
   "metadata": {},
   "outputs": [],
   "source": [
    "dataset.drop('Utilities', axis=1, inplace=True)"
   ]
  },
  {
   "cell_type": "markdown",
   "metadata": {
    "colab_type": "text",
    "id": "nhfKXNxlSabC"
   },
   "source": [
    "### Dealing with missing data"
   ]
  },
  {
   "cell_type": "code",
   "execution_count": 6,
   "metadata": {},
   "outputs": [],
   "source": [
    "for field in ['GarageType', 'GarageFinish','GarageQual', 'GarageCond',\n",
    "              'BsmtFinType1','BsmtQual','BsmtCond', 'BsmtExposure', 'BsmtFinType1', \n",
    "              'BsmtFinType2','FireplaceQu',\n",
    "               'MasVnrType' ] :\n",
    "    dataset[field].fillna('None',inplace=True)"
   ]
  },
  {
   "cell_type": "code",
   "execution_count": 7,
   "metadata": {},
   "outputs": [],
   "source": [
    "for field in ['MasVnrArea','BsmtFullBath','BsmtHalfBath'\n",
    "              ,'BsmtFinSF1','GarageCars','GarageArea','TotalBsmtSF',\n",
    "             'BsmtUnfSF','BsmtFinSF2','GarageYrBlt','TotalBsmtSF']:\n",
    "    dataset[field].fillna(0,inplace=True) "
   ]
  },
  {
   "cell_type": "code",
   "execution_count": 8,
   "metadata": {},
   "outputs": [],
   "source": [
    "dataset['LotFrontage'] = dataset.groupby('Neighborhood')['LotFrontage'].transform(lambda x: x.fillna(x.mean()))\n",
    "for feature in ['MSZoning', 'Electrical']:\n",
    "    dataset[feature] = dataset.groupby('Neighborhood')[feature].transform(lambda x: x.fillna(x.mode()[0]))\n",
    "\n",
    "for field in ['SaleType','Exterior1st','Exterior2nd',]:\n",
    "    dataset[field].fillna(dataset[field].mode()[0],inplace=True)\n",
    "    \n",
    "dataset.Functional.fillna('Typ',inplace=True)\n",
    "dataset.KitchenQual.fillna('TA',inplace=True)"
   ]
  },
  {
   "cell_type": "markdown",
   "metadata": {
    "colab_type": "text",
    "id": "AhSpdQWeSsFh"
   },
   "source": [
    "### Encoding the Independent Variables"
   ]
  },
  {
   "cell_type": "code",
   "execution_count": 9,
   "metadata": {},
   "outputs": [],
   "source": [
    "for field in ['MSSubClass','LandSlope','YearBuilt','YearRemodAdd','CentralAir','GarageYrBlt','PavedDrive','YrSold']:\n",
    "    le = LabelEncoder()\n",
    "    dataset[field] = le.fit_transform(dataset[field].values)"
   ]
  },
  {
   "cell_type": "code",
   "execution_count": 10,
   "metadata": {},
   "outputs": [],
   "source": [
    "ordinal_features = ['ExterQual','LotShape','BsmtQual','BsmtCond','BsmtExposure','BsmtFinType1', 'BsmtFinType2',\n",
    "              'HeatingQC','Functional','FireplaceQu','KitchenQual', 'GarageFinish','GarageQual','GarageCond']\n",
    "\n",
    "for field in (ordinal_features):\n",
    "    dataset[field] = dataset[field].astype(str)\n",
    "\n",
    "    orders=[\n",
    "    #ExterQual\n",
    "    ['Po','Fa','TA','Gd','Ex'],\n",
    "    #LotShape\n",
    "    ['Reg','IR1' ,'IR2','IR3'],\n",
    "    #BsmtQual\n",
    "    ['None','Fa','TA','Gd','Ex'],\n",
    "    #BsmtCond\n",
    "    ['None','Po','Fa','TA','Gd','Ex'],\n",
    "    #BsmtExposure\n",
    "    ['None','No','Mn','Av','Gd'],\n",
    "    #BsmtFinType1\n",
    "    ['None','Unf','LwQ', 'Rec','BLQ','ALQ' , 'GLQ' ],\n",
    "    #BsmtFinType2\n",
    "   ['None','Unf','LwQ', 'Rec','BLQ','ALQ' , 'GLQ' ],\n",
    "    #HeatingQC\n",
    "    ['Po','Fa','TA','Gd','Ex'],\n",
    "    #Functional\n",
    "   ['Sev','Maj2','Maj1','Mod','Min2','Min1','Typ'],\n",
    "    #FireplaceQu\n",
    "    ['None','Po','Fa','TA','Gd','Ex'],\n",
    "    #KitchenQual\n",
    "    ['Fa','TA','Gd','Ex'],\n",
    "    #GarageFinish\n",
    "    ['None','Unf','RFn','Fin'],\n",
    "    #GarageQual\n",
    "    ['None','Po','Fa','TA','Gd','Ex'],\n",
    "    #GarageCond\n",
    "    ['None','Po','Fa','TA','Gd','Ex']]\n",
    "\n",
    "#for i in range(len(orders)):\n",
    "#    dataset.loc[ordinal_features[i]] = OrdinalEncoder(categories = {0:orders[i]}).fit_transform(dataset.loc[ordinal_features[i]].values.reshape(-1,1))\n",
    "for i in range(len(orders)):\n",
    "  dataset[ordinal_features[i]] = OrdinalEncoder(categories = {0:orders[i]}).fit_transform(\\\n",
    "                                                                                  dataset[ordinal_features[i]].values.reshape(-1,1))"
   ]
  },
  {
   "cell_type": "code",
   "execution_count": 11,
   "metadata": {},
   "outputs": [],
   "source": [
    "dataset = pd.get_dummies(dataset)"
   ]
  },
  {
   "cell_type": "code",
   "execution_count": 12,
   "metadata": {},
   "outputs": [],
   "source": [
    "#Splitting the dataset into the Training set and Test set\n",
    "train_dataset = dataset[:train_dataset.shape[0]]\n",
    "test_dataset = dataset[train_dataset.shape[0]:].drop('SalePrice', axis=1)"
   ]
  },
  {
   "cell_type": "code",
   "execution_count": 13,
   "metadata": {},
   "outputs": [],
   "source": [
    "train_dataset = train_dataset.drop(np.where(train_dataset['GrLivArea']>4000)[0])"
   ]
  },
  {
   "cell_type": "code",
   "execution_count": 14,
   "metadata": {},
   "outputs": [],
   "source": [
    "X = train_dataset.drop('SalePrice', axis=1).values\n",
    "y = np.log1p(train_dataset['SalePrice'])"
   ]
  },
  {
   "cell_type": "code",
   "execution_count": 15,
   "metadata": {},
   "outputs": [],
   "source": [
    "feature_list = list(train_dataset.columns)\n",
    "feature_list.remove('SalePrice')"
   ]
  },
  {
   "cell_type": "code",
   "execution_count": 16,
   "metadata": {
    "colab": {},
    "colab_type": "code",
    "id": "pXgA6CzlqbCl"
   },
   "outputs": [],
   "source": [
    "X_train, X_test, y_train, y_test = train_test_split(X, y, test_size = 0.2, random_state = 1)"
   ]
  },
  {
   "cell_type": "markdown",
   "metadata": {},
   "source": [
    "## 1)Training simple Linear Regression Model"
   ]
  },
  {
   "cell_type": "code",
   "execution_count": 17,
   "metadata": {
    "scrolled": true
   },
   "outputs": [
    {
     "data": {
      "text/plain": [
       "LinearRegression()"
      ]
     },
     "execution_count": 17,
     "metadata": {},
     "output_type": "execute_result"
    }
   ],
   "source": [
    "regressor9 = LinearRegression()\n",
    "regressor9.fit(X_train[:,6].reshape(-1,1), y_train)"
   ]
  },
  {
   "cell_type": "code",
   "execution_count": 18,
   "metadata": {},
   "outputs": [],
   "source": [
    "y_pred9 = regressor9.predict(X_test[:,6].reshape(-1,1))"
   ]
  },
  {
   "cell_type": "code",
   "execution_count": 19,
   "metadata": {},
   "outputs": [],
   "source": [
    "sq_error9 = (y_test-y_pred9)**2"
   ]
  },
  {
   "cell_type": "code",
   "execution_count": 20,
   "metadata": {},
   "outputs": [
    {
     "data": {
      "text/plain": [
       "0.1738702249785379"
      ]
     },
     "execution_count": 20,
     "metadata": {},
     "output_type": "execute_result"
    }
   ],
   "source": [
    "msq_error9 = sq_error9.mean()\n",
    "msq_error9"
   ]
  },
  {
   "cell_type": "markdown",
   "metadata": {},
   "source": [
    "## 2)Training the Multiple Linear Regression model"
   ]
  },
  {
   "cell_type": "code",
   "execution_count": 21,
   "metadata": {},
   "outputs": [
    {
     "data": {
      "text/plain": [
       "array([[5.0000e+00, 6.5000e+01, 1.2257e+04, ..., 0.0000e+00, 1.0000e+00,\n",
       "        0.0000e+00],\n",
       "       [1.3000e+01, 2.4000e+01, 1.9500e+03, ..., 0.0000e+00, 1.0000e+00,\n",
       "        0.0000e+00],\n",
       "       [0.0000e+00, 7.2000e+01, 1.0011e+04, ..., 0.0000e+00, 1.0000e+00,\n",
       "        0.0000e+00],\n",
       "       ...,\n",
       "       [4.0000e+00, 5.0000e+01, 6.0000e+03, ..., 0.0000e+00, 1.0000e+00,\n",
       "        0.0000e+00],\n",
       "       [1.3000e+01, 2.1000e+01, 1.6800e+03, ..., 0.0000e+00, 1.0000e+00,\n",
       "        0.0000e+00],\n",
       "       [1.0000e+00, 5.0000e+01, 6.0000e+03, ..., 0.0000e+00, 1.0000e+00,\n",
       "        0.0000e+00]])"
      ]
     },
     "execution_count": 21,
     "metadata": {},
     "output_type": "execute_result"
    }
   ],
   "source": [
    "X_train"
   ]
  },
  {
   "cell_type": "code",
   "execution_count": 22,
   "metadata": {},
   "outputs": [
    {
     "data": {
      "text/plain": [
       "LinearRegression()"
      ]
     },
     "execution_count": 22,
     "metadata": {},
     "output_type": "execute_result"
    }
   ],
   "source": [
    "regressor8 = LinearRegression()\n",
    "regressor8.fit(X_train, y_train)"
   ]
  },
  {
   "cell_type": "code",
   "execution_count": 23,
   "metadata": {},
   "outputs": [],
   "source": [
    "y_pred8 = regressor8.predict(X_test)"
   ]
  },
  {
   "cell_type": "code",
   "execution_count": 24,
   "metadata": {},
   "outputs": [],
   "source": [
    "sq_error8 = (y_test-y_pred8)**2"
   ]
  },
  {
   "cell_type": "code",
   "execution_count": 25,
   "metadata": {},
   "outputs": [
    {
     "data": {
      "text/plain": [
       "0.019467583134767444"
      ]
     },
     "execution_count": 25,
     "metadata": {},
     "output_type": "execute_result"
    }
   ],
   "source": [
    "msq_error8 = sq_error8.mean()\n",
    "msq_error8"
   ]
  },
  {
   "cell_type": "markdown",
   "metadata": {},
   "source": [
    "## 3)Training the Polynomial Regression models"
   ]
  },
  {
   "cell_type": "code",
   "execution_count": 26,
   "metadata": {},
   "outputs": [
    {
     "data": {
      "text/plain": [
       "LinearRegression()"
      ]
     },
     "execution_count": 26,
     "metadata": {},
     "output_type": "execute_result"
    }
   ],
   "source": [
    "poly_reg7 = PolynomialFeatures(degree = 2)\n",
    "X_poly7 = poly_reg7.fit_transform(X_train)\n",
    "lin_reg_7 = LinearRegression()\n",
    "lin_reg_7.fit(X_poly7, y_train)"
   ]
  },
  {
   "cell_type": "code",
   "execution_count": 27,
   "metadata": {},
   "outputs": [],
   "source": [
    "y_pred7 = lin_reg_7.predict(poly_reg7.fit_transform(X_test))"
   ]
  },
  {
   "cell_type": "code",
   "execution_count": 28,
   "metadata": {},
   "outputs": [],
   "source": [
    "sq_error7 = (y_test-y_pred7)**2"
   ]
  },
  {
   "cell_type": "code",
   "execution_count": 29,
   "metadata": {},
   "outputs": [
    {
     "data": {
      "text/plain": [
       "1.253323894552858"
      ]
     },
     "execution_count": 29,
     "metadata": {},
     "output_type": "execute_result"
    }
   ],
   "source": [
    "msq_error7 = sq_error7.mean()\n",
    "msq_error7"
   ]
  },
  {
   "cell_type": "markdown",
   "metadata": {},
   "source": [
    "## 4)Training the Decision Tree Regression Model"
   ]
  },
  {
   "cell_type": "code",
   "execution_count": 30,
   "metadata": {},
   "outputs": [
    {
     "data": {
      "text/plain": [
       "DecisionTreeRegressor(random_state=0)"
      ]
     },
     "execution_count": 30,
     "metadata": {},
     "output_type": "execute_result"
    }
   ],
   "source": [
    "regressor6 = DecisionTreeRegressor(random_state = 0)\n",
    "regressor6.fit(X_train, y_train)"
   ]
  },
  {
   "cell_type": "code",
   "execution_count": 31,
   "metadata": {},
   "outputs": [],
   "source": [
    "y_pred6 = regressor6.predict(X_test)"
   ]
  },
  {
   "cell_type": "code",
   "execution_count": 32,
   "metadata": {},
   "outputs": [],
   "source": [
    "sq_error6 = (y_test-y_pred6)**2"
   ]
  },
  {
   "cell_type": "code",
   "execution_count": 33,
   "metadata": {},
   "outputs": [
    {
     "data": {
      "text/plain": [
       "0.04794947554760251"
      ]
     },
     "execution_count": 33,
     "metadata": {},
     "output_type": "execute_result"
    }
   ],
   "source": [
    "msq_error6 = sq_error6.mean()\n",
    "msq_error6"
   ]
  },
  {
   "cell_type": "markdown",
   "metadata": {},
   "source": [
    "## 5)Training the Random Forest Regression model"
   ]
  },
  {
   "cell_type": "code",
   "execution_count": 34,
   "metadata": {},
   "outputs": [
    {
     "data": {
      "text/plain": [
       "RandomForestRegressor(random_state=0)"
      ]
     },
     "execution_count": 34,
     "metadata": {},
     "output_type": "execute_result"
    }
   ],
   "source": [
    "regressor5 = RandomForestRegressor(n_estimators = 100, random_state = 0)\n",
    "regressor5.fit(X_train, y_train)"
   ]
  },
  {
   "cell_type": "code",
   "execution_count": 35,
   "metadata": {},
   "outputs": [],
   "source": [
    "y_pred5 = regressor5.predict(X_test)"
   ]
  },
  {
   "cell_type": "code",
   "execution_count": 36,
   "metadata": {},
   "outputs": [],
   "source": [
    "sq_error5 = (y_test-y_pred5)**2"
   ]
  },
  {
   "cell_type": "code",
   "execution_count": 37,
   "metadata": {},
   "outputs": [
    {
     "data": {
      "text/plain": [
       "0.01827567201737378"
      ]
     },
     "execution_count": 37,
     "metadata": {},
     "output_type": "execute_result"
    }
   ],
   "source": [
    "msq_error5 = sq_error5.mean()\n",
    "msq_error5"
   ]
  },
  {
   "cell_type": "code",
   "execution_count": 38,
   "metadata": {},
   "outputs": [
    {
     "name": "stdout",
     "output_type": "stream",
     "text": [
      "Variable: OverallQual          Importance: 0.53596\n",
      "Variable: GrLivArea            Importance: 0.12457\n",
      "Variable: TotalBsmtSF          Importance: 0.04335\n",
      "Variable: GarageCars           Importance: 0.03467\n",
      "Variable: GarageArea           Importance: 0.02763\n",
      "Variable: YearBuilt            Importance: 0.02117\n",
      "Variable: 1stFlrSF             Importance: 0.0204\n",
      "Variable: BsmtFinSF1           Importance: 0.01811\n",
      "Variable: LotArea              Importance: 0.01412\n",
      "Variable: YearRemodAdd         Importance: 0.01014\n",
      "Variable: OverallCond          Importance: 0.00974\n",
      "Variable: LotFrontage          Importance: 0.00922\n",
      "Variable: GarageYrBlt          Importance: 0.00849\n",
      "Variable: FireplaceQu          Importance: 0.00792\n",
      "Variable: CentralAir           Importance: 0.00763\n",
      "Variable: BsmtFinType1         Importance: 0.00569\n",
      "Variable: WoodDeckSF           Importance: 0.00547\n",
      "Variable: BsmtUnfSF            Importance: 0.00482\n",
      "Variable: OpenPorchSF          Importance: 0.00435\n",
      "Variable: GarageFinish         Importance: 0.00419\n",
      "Variable: MSZoning_RM          Importance: 0.00413\n",
      "Variable: 2ndFlrSF             Importance: 0.0038\n",
      "Variable: BsmtQual             Importance: 0.00358\n",
      "Variable: MoSold               Importance: 0.00354\n",
      "Variable: KitchenQual          Importance: 0.00348\n",
      "Variable: GarageType_Detchd    Importance: 0.00267\n",
      "Variable: Fireplaces           Importance: 0.00255\n",
      "Variable: MasVnrArea           Importance: 0.00239\n",
      "Variable: LotShape             Importance: 0.00227\n",
      "Variable: MSZoning_C (all)     Importance: 0.0022\n",
      "Variable: TotRmsAbvGrd         Importance: 0.00211\n",
      "Variable: MSSubClass           Importance: 0.00199\n",
      "Variable: BsmtExposure         Importance: 0.00195\n",
      "Variable: HeatingQC            Importance: 0.00187\n",
      "Variable: Functional           Importance: 0.0017\n",
      "Variable: EnclosedPorch        Importance: 0.00164\n",
      "Variable: ExterQual            Importance: 0.00161\n",
      "Variable: YrSold               Importance: 0.00156\n",
      "Variable: FullBath             Importance: 0.00137\n",
      "Variable: GarageQual           Importance: 0.00133\n",
      "Variable: BedroomAbvGr         Importance: 0.0013\n",
      "Variable: GarageCond           Importance: 0.00127\n",
      "Variable: GarageType_Attchd    Importance: 0.0011\n",
      "Variable: BsmtFullBath         Importance: 0.00094\n",
      "Variable: PavedDrive           Importance: 0.00093\n",
      "Variable: SaleCondition_Abnorml Importance: 0.00088\n",
      "Variable: LandSlope            Importance: 0.00079\n",
      "Variable: MSZoning_RL          Importance: 0.00078\n",
      "Variable: SaleCondition_Family Importance: 0.00078\n",
      "Variable: Neighborhood_Edwards Importance: 0.00073\n",
      "Variable: BldgType_1Fam        Importance: 0.00073\n",
      "Variable: Exterior2nd_Brk Cmn  Importance: 0.00071\n",
      "Variable: Exterior2nd_VinylSd  Importance: 0.00066\n",
      "Variable: SaleCondition_Normal Importance: 0.00066\n",
      "Variable: BsmtCond             Importance: 0.00065\n",
      "Variable: Neighborhood_OldTown Importance: 0.0006\n",
      "Variable: Exterior1st_BrkComm  Importance: 0.0006\n",
      "Variable: Heating_Grav         Importance: 0.00059\n",
      "Variable: Exterior1st_VinylSd  Importance: 0.00058\n",
      "Variable: HalfBath             Importance: 0.00056\n",
      "Variable: KitchenAbvGr         Importance: 0.00056\n",
      "Variable: ScreenPorch          Importance: 0.00055\n",
      "Variable: Neighborhood_Crawfor Importance: 0.00053\n",
      "Variable: SaleType_WD          Importance: 0.0005\n",
      "Variable: Condition1_Norm      Importance: 0.00047\n",
      "Variable: RoofStyle_Gable      Importance: 0.00047\n",
      "Variable: Foundation_BrkTil    Importance: 0.00047\n",
      "Variable: Foundation_PConc     Importance: 0.00043\n",
      "Variable: ExterCond_TA         Importance: 0.0004\n",
      "Variable: Neighborhood_IDOTRR  Importance: 0.00039\n",
      "Variable: Neighborhood_Sawyer  Importance: 0.00039\n",
      "Variable: LandContour_Lvl      Importance: 0.00038\n",
      "Variable: BsmtFinSF2           Importance: 0.00037\n",
      "Variable: Foundation_CBlock    Importance: 0.00037\n",
      "Variable: BsmtFinType2         Importance: 0.00036\n",
      "Variable: LotConfig_Inside     Importance: 0.00036\n",
      "Variable: HouseStyle_1.5Fin    Importance: 0.00035\n",
      "Variable: LotConfig_Corner     Importance: 0.00034\n",
      "Variable: Electrical_SBrkr     Importance: 0.00034\n",
      "Variable: Condition1_Artery    Importance: 0.00031\n",
      "Variable: MasVnrType_BrkFace   Importance: 0.0003\n",
      "Variable: MasVnrType_None      Importance: 0.0003\n",
      "Variable: ExterCond_Gd         Importance: 0.0003\n",
      "Variable: Neighborhood_NAmes   Importance: 0.00029\n",
      "Variable: HouseStyle_1Story    Importance: 0.00028\n",
      "Variable: RoofStyle_Hip        Importance: 0.00028\n",
      "Variable: Exterior1st_MetalSd  Importance: 0.00027\n",
      "Variable: Neighborhood_CollgCr Importance: 0.00025\n",
      "Variable: Exterior2nd_MetalSd  Importance: 0.00025\n",
      "Variable: Exterior1st_BrkFace  Importance: 0.00024\n",
      "Variable: Exterior1st_Wd Sdng  Importance: 0.00024\n",
      "Variable: MasVnrType_Stone     Importance: 0.00024\n",
      "Variable: Condition1_Feedr     Importance: 0.00023\n",
      "Variable: Electrical_FuseA     Importance: 0.00023\n",
      "Variable: ExterCond_Fa         Importance: 0.00022\n",
      "Variable: GarageType_None      Importance: 0.00022\n",
      "Variable: RoofStyle_Flat       Importance: 0.0002\n",
      "Variable: Exterior2nd_HdBoard  Importance: 0.0002\n",
      "Variable: BsmtHalfBath         Importance: 0.00019\n",
      "Variable: LandContour_Bnk      Importance: 0.00019\n",
      "Variable: MiscVal              Importance: 0.00016\n",
      "Variable: LotConfig_CulDSac    Importance: 0.00016\n",
      "Variable: Neighborhood_ClearCr Importance: 0.00016\n",
      "Variable: Condition1_RRAe      Importance: 0.00016\n",
      "Variable: Exterior1st_CemntBd  Importance: 0.00016\n",
      "Variable: Exterior1st_HdBoard  Importance: 0.00016\n",
      "Variable: Exterior1st_Plywood  Importance: 0.00015\n",
      "Variable: Exterior2nd_Plywood  Importance: 0.00015\n",
      "Variable: Exterior2nd_Wd Sdng  Importance: 0.00015\n",
      "Variable: LandContour_HLS      Importance: 0.00014\n",
      "Variable: Neighborhood_BrkSide Importance: 0.00014\n",
      "Variable: Neighborhood_NridgHt Importance: 0.00014\n",
      "Variable: Neighborhood_NWAmes  Importance: 0.00013\n",
      "Variable: Heating_GasA         Importance: 0.00013\n",
      "Variable: Neighborhood_MeadowV Importance: 0.00012\n",
      "Variable: HouseStyle_SLvl      Importance: 0.00012\n",
      "Variable: Neighborhood_Somerst Importance: 0.00011\n",
      "Variable: HouseStyle_2Story    Importance: 0.00011\n",
      "Variable: SaleCondition_Partial Importance: 0.00011\n",
      "Variable: BldgType_Duplex      Importance: 0.0001\n",
      "Variable: Electrical_FuseF     Importance: 0.0001\n",
      "Variable: GarageType_BuiltIn   Importance: 0.0001\n",
      "Variable: SaleType_COD         Importance: 0.0001\n",
      "Variable: Neighborhood_Gilbert Importance: 9e-05\n",
      "Variable: Neighborhood_StoneBr Importance: 9e-05\n",
      "Variable: BldgType_TwnhsE      Importance: 9e-05\n",
      "Variable: Neighborhood_Mitchel Importance: 8e-05\n",
      "Variable: BldgType_Twnhs       Importance: 8e-05\n",
      "Variable: Exterior1st_AsbShng  Importance: 8e-05\n",
      "Variable: LowQualFinSF         Importance: 7e-05\n",
      "Variable: MSZoning_FV          Importance: 7e-05\n",
      "Variable: Neighborhood_Timber  Importance: 7e-05\n",
      "Variable: Condition1_RRAn      Importance: 7e-05\n",
      "Variable: Condition2_Norm      Importance: 7e-05\n",
      "Variable: Exterior2nd_AsbShng  Importance: 7e-05\n",
      "Variable: LotConfig_FR2        Importance: 6e-05\n",
      "Variable: Condition1_PosA      Importance: 6e-05\n",
      "Variable: Exterior2nd_CmentBd  Importance: 6e-05\n",
      "Variable: Exterior2nd_Stucco   Importance: 6e-05\n",
      "Variable: SaleType_New         Importance: 6e-05\n",
      "Variable: Neighborhood_NoRidge Importance: 5e-05\n",
      "Variable: Neighborhood_SawyerW Importance: 5e-05\n",
      "Variable: RoofMatl_Tar&Grv     Importance: 5e-05\n",
      "Variable: 3SsnPorch            Importance: 4e-05\n",
      "Variable: PoolArea             Importance: 4e-05\n",
      "Variable: Street_Pave          Importance: 4e-05\n",
      "Variable: LandContour_Low      Importance: 4e-05\n",
      "Variable: Neighborhood_SWISU   Importance: 4e-05\n",
      "Variable: RoofStyle_Gambrel    Importance: 4e-05\n",
      "Variable: Exterior1st_Stucco   Importance: 4e-05\n",
      "Variable: Exterior2nd_BrkFace  Importance: 4e-05\n",
      "Variable: Exterior2nd_Wd Shng  Importance: 4e-05\n",
      "Variable: Heating_GasW         Importance: 4e-05\n",
      "Variable: Electrical_Mix       Importance: 4e-05\n",
      "Variable: Condition1_PosN      Importance: 3e-05\n",
      "Variable: Condition2_Feedr     Importance: 3e-05\n",
      "Variable: HouseStyle_1.5Unf    Importance: 3e-05\n",
      "Variable: HouseStyle_2.5Unf    Importance: 3e-05\n",
      "Variable: RoofMatl_CompShg     Importance: 3e-05\n",
      "Variable: Exterior1st_WdShing  Importance: 3e-05\n",
      "Variable: Heating_OthW         Importance: 3e-05\n",
      "Variable: SaleCondition_Alloca Importance: 3e-05\n",
      "Variable: Neighborhood_Veenker Importance: 2e-05\n",
      "Variable: BldgType_2fmCon      Importance: 2e-05\n",
      "Variable: HouseStyle_2.5Fin    Importance: 2e-05\n",
      "Variable: HouseStyle_SFoyer    Importance: 2e-05\n",
      "Variable: Exterior1st_AsphShn  Importance: 2e-05\n",
      "Variable: Exterior2nd_Stone    Importance: 2e-05\n",
      "Variable: MasVnrType_BrkCmn    Importance: 2e-05\n",
      "Variable: Foundation_Slab      Importance: 2e-05\n",
      "Variable: SaleType_ConLD       Importance: 2e-05\n",
      "Variable: MSZoning_RH          Importance: 1e-05\n",
      "Variable: Neighborhood_Blmngtn Importance: 1e-05\n",
      "Variable: Neighborhood_BrDale  Importance: 1e-05\n",
      "Variable: Neighborhood_NPkVill Importance: 1e-05\n",
      "Variable: Condition1_RRNn      Importance: 1e-05\n",
      "Variable: Condition2_PosA      Importance: 1e-05\n",
      "Variable: Condition2_RRNn      Importance: 1e-05\n",
      "Variable: Exterior1st_Stone    Importance: 1e-05\n",
      "Variable: Exterior2nd_AsphShn  Importance: 1e-05\n",
      "Variable: Heating_Floor        Importance: 1e-05\n",
      "Variable: Heating_Wall         Importance: 1e-05\n",
      "Variable: GarageType_2Types    Importance: 1e-05\n",
      "Variable: GarageType_Basment   Importance: 1e-05\n",
      "Variable: GarageType_CarPort   Importance: 1e-05\n",
      "Variable: SaleType_CWD         Importance: 1e-05\n",
      "Variable: SaleType_ConLI       Importance: 1e-05\n",
      "Variable: SaleType_ConLw       Importance: 1e-05\n",
      "Variable: SaleType_Oth         Importance: 1e-05\n",
      "Variable: Street_Grvl          Importance: 0.0\n",
      "Variable: LotConfig_FR3        Importance: 0.0\n",
      "Variable: Neighborhood_Blueste Importance: 0.0\n",
      "Variable: Condition1_RRNe      Importance: 0.0\n",
      "Variable: Condition2_Artery    Importance: 0.0\n",
      "Variable: Condition2_PosN      Importance: 0.0\n",
      "Variable: Condition2_RRAe      Importance: 0.0\n",
      "Variable: Condition2_RRAn      Importance: 0.0\n",
      "Variable: RoofStyle_Mansard    Importance: 0.0\n",
      "Variable: RoofStyle_Shed       Importance: 0.0\n",
      "Variable: RoofMatl_ClyTile     Importance: 0.0\n",
      "Variable: RoofMatl_Membran     Importance: 0.0\n",
      "Variable: RoofMatl_Metal       Importance: 0.0\n",
      "Variable: RoofMatl_Roll        Importance: 0.0\n",
      "Variable: RoofMatl_WdShake     Importance: 0.0\n",
      "Variable: RoofMatl_WdShngl     Importance: 0.0\n",
      "Variable: Exterior1st_CBlock   Importance: 0.0\n",
      "Variable: Exterior1st_ImStucc  Importance: 0.0\n",
      "Variable: Exterior2nd_CBlock   Importance: 0.0\n",
      "Variable: Exterior2nd_ImStucc  Importance: 0.0\n",
      "Variable: Exterior2nd_Other    Importance: 0.0\n",
      "Variable: ExterCond_Ex         Importance: 0.0\n",
      "Variable: ExterCond_Po         Importance: 0.0\n",
      "Variable: Foundation_Stone     Importance: 0.0\n",
      "Variable: Foundation_Wood      Importance: 0.0\n",
      "Variable: Electrical_FuseP     Importance: 0.0\n",
      "Variable: SaleType_Con         Importance: 0.0\n",
      "Variable: SaleCondition_AdjLand Importance: 0.0\n"
     ]
    }
   ],
   "source": [
    "importances = list(regressor5.feature_importances_)\n",
    "feature_importances = [(feature, round(importance, 5)) for feature, importance in zip(feature_list, importances)]\n",
    "feature_importances = sorted(feature_importances, key = lambda x: x[1], reverse = True)\n",
    "[print('Variable: {:20} Importance: {}'.format(*pair)) for pair in feature_importances];"
   ]
  },
  {
   "cell_type": "markdown",
   "metadata": {},
   "source": [
    "### Training Random Forest Regression model with fewer variables"
   ]
  },
  {
   "cell_type": "code",
   "execution_count": 39,
   "metadata": {},
   "outputs": [
    {
     "data": {
      "text/plain": [
       "RandomForestRegressor(random_state=0)"
      ]
     },
     "execution_count": 39,
     "metadata": {},
     "output_type": "execute_result"
    }
   ],
   "source": [
    "feature_importances = regressor5.feature_importances_[regressor5.feature_importances_ > np.percentile(regressor5.feature_importances_, 80)]\n",
    "important_features = [feature_list[np.where(regressor5.feature_importances_ == f_i)[0][0]] for f_i in feature_importances]\n",
    "\n",
    "X_imp = train_dataset.loc[:, important_features].values\n",
    "test_imp = test_dataset.loc[:, important_features].values\n",
    "X_train_, X_test_, y_train_, y_test_ = train_test_split(X_imp, y, test_size = 0.2, random_state = 1)\n",
    "regressor4 = RandomForestRegressor(n_estimators = 100, random_state = 0)\n",
    "regressor4.fit(X_train_, y_train_)"
   ]
  },
  {
   "cell_type": "code",
   "execution_count": 40,
   "metadata": {},
   "outputs": [],
   "source": [
    "y_pred4 = regressor4.predict(X_test_)"
   ]
  },
  {
   "cell_type": "code",
   "execution_count": 41,
   "metadata": {},
   "outputs": [],
   "source": [
    "sq_error4 = (y_test-y_pred4)**2"
   ]
  },
  {
   "cell_type": "code",
   "execution_count": 42,
   "metadata": {},
   "outputs": [
    {
     "data": {
      "text/plain": [
       "0.017809316535872324"
      ]
     },
     "execution_count": 42,
     "metadata": {},
     "output_type": "execute_result"
    }
   ],
   "source": [
    "msq_error4 = sq_error4.mean()\n",
    "msq_error4"
   ]
  },
  {
   "cell_type": "code",
   "execution_count": 43,
   "metadata": {},
   "outputs": [],
   "source": [
    "rf = RandomForestRegressor()\n",
    "sale_price = rf.fit(X_train_,y_train_)\n",
    "\n",
    "test = test_imp\n",
    "sale_price = rf.predict(test)\n",
    "\n",
    "sale_price = np.exp(np.array(sale_price))"
   ]
  },
  {
   "cell_type": "code",
   "execution_count": 44,
   "metadata": {},
   "outputs": [
    {
     "data": {
      "text/html": [
       "<div>\n",
       "<style scoped>\n",
       "    .dataframe tbody tr th:only-of-type {\n",
       "        vertical-align: middle;\n",
       "    }\n",
       "\n",
       "    .dataframe tbody tr th {\n",
       "        vertical-align: top;\n",
       "    }\n",
       "\n",
       "    .dataframe thead th {\n",
       "        text-align: right;\n",
       "    }\n",
       "</style>\n",
       "<table border=\"1\" class=\"dataframe\">\n",
       "  <thead>\n",
       "    <tr style=\"text-align: right;\">\n",
       "      <th></th>\n",
       "      <th>Id</th>\n",
       "      <th>SalePrice</th>\n",
       "    </tr>\n",
       "  </thead>\n",
       "  <tbody>\n",
       "    <tr>\n",
       "      <th>0</th>\n",
       "      <td>1461</td>\n",
       "      <td>121991.266560</td>\n",
       "    </tr>\n",
       "    <tr>\n",
       "      <th>1</th>\n",
       "      <td>1462</td>\n",
       "      <td>150671.281267</td>\n",
       "    </tr>\n",
       "    <tr>\n",
       "      <th>2</th>\n",
       "      <td>1463</td>\n",
       "      <td>184330.410167</td>\n",
       "    </tr>\n",
       "    <tr>\n",
       "      <th>3</th>\n",
       "      <td>1464</td>\n",
       "      <td>181350.759920</td>\n",
       "    </tr>\n",
       "    <tr>\n",
       "      <th>4</th>\n",
       "      <td>1465</td>\n",
       "      <td>195829.026881</td>\n",
       "    </tr>\n",
       "  </tbody>\n",
       "</table>\n",
       "</div>"
      ],
      "text/plain": [
       "     Id      SalePrice\n",
       "0  1461  121991.266560\n",
       "1  1462  150671.281267\n",
       "2  1463  184330.410167\n",
       "3  1464  181350.759920\n",
       "4  1465  195829.026881"
      ]
     },
     "execution_count": 44,
     "metadata": {},
     "output_type": "execute_result"
    }
   ],
   "source": [
    "submission = pd.DataFrame(sale_price, columns = ['SalePrice'])\n",
    "submission = pd.concat([test_id, submission], axis=1)\n",
    "\n",
    "\n",
    "submission.head()"
   ]
  },
  {
   "cell_type": "code",
   "execution_count": 45,
   "metadata": {},
   "outputs": [],
   "source": [
    "submission.to_csv('Predicted_House_Prices.csv', index=False)"
   ]
  },
  {
   "cell_type": "markdown",
   "metadata": {},
   "source": [
    "sairam"
   ]
  }
 ],
 "metadata": {
  "colab": {
   "authorship_tag": "ABX9TyNxDRfLvKVBN9HjXcmlURF3",
   "collapsed_sections": [],
   "name": "data_preprocessing_tools.ipynb",
   "provenance": [],
   "toc_visible": true
  },
  "kernelspec": {
   "display_name": "Python 3 (ipykernel)",
   "language": "python",
   "name": "python3"
  },
  "language_info": {
   "codemirror_mode": {
    "name": "ipython",
    "version": 3
   },
   "file_extension": ".py",
   "mimetype": "text/x-python",
   "name": "python",
   "nbconvert_exporter": "python",
   "pygments_lexer": "ipython3",
   "version": "3.9.12"
  }
 },
 "nbformat": 4,
 "nbformat_minor": 1
}
